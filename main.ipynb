{
 "cells": [
  {
   "cell_type": "markdown",
   "metadata": {},
   "source": [
    "# Automating the Google Cricket Game\n",
    "\n",
    "## By Team Pysquad :\n",
    "### 1. Pranav Todkar\n",
    "### 2. Sanskar Dethe\n",
    "\n",
    "# Lets move to the code"
   ]
  },
  {
   "cell_type": "markdown",
   "metadata": {},
   "source": [
    "Importing all required libraries..."
   ]
  },
  {
   "cell_type": "code",
   "execution_count": 1,
   "metadata": {},
   "outputs": [],
   "source": [
    "import cv2\n",
    "import numpy as np\n",
    "import matplotlib.pyplot as plt\n",
    "from PIL import ImageGrab as IG\n",
    "import time\n",
    "import pyautogui as pag"
   ]
  },
  {
   "cell_type": "markdown",
   "metadata": {},
   "source": [
    "Using Pillow library to take Screenshots..."
   ]
  },
  {
   "cell_type": "code",
   "execution_count": 2,
   "metadata": {},
   "outputs": [],
   "source": [
    "def take_screenshot(bbox = None):\n",
    "    screenshot  = IG.grab(bbox)\n",
    "    screenshot = np.array(screenshot)\n",
    "    # Convert into BGR so that it can be used in OpenCV\n",
    "    screenshot = cv2.cvtColor(screenshot, cv2.COLOR_RGB2BGR)\n",
    "    return screenshot"
   ]
  },
  {
   "cell_type": "markdown",
   "metadata": {},
   "source": [
    "# Google_Cricket class\n",
    "\n",
    "<br>\n",
    "Used to make Player and Ball object"
   ]
  },
  {
   "cell_type": "code",
   "execution_count": 3,
   "metadata": {},
   "outputs": [],
   "source": [
    "class Google_cricket :\n",
    "    # Attributes:\n",
    "    ''' Attributes\n",
    "    1. template_image - template image given as input\n",
    "    2. height - (auto) height of template image\n",
    "    3. width - (auto) width of template image\n",
    "    4. location - location in the cropped (focus) section of screen\n",
    "    '''\n",
    "    # Constructor\n",
    "    def __init__(self, path):\n",
    "        # Attributes of player\n",
    "        template_image  = cv2.imread(path) # Read player image\n",
    "        self.template_image = template_image\n",
    "        self.height = template_image.shape[0]\n",
    "        self.width = template_image.shape[1]\n",
    "        self.location = None\n",
    "    \n",
    "    def find_in(self, screen_img):\n",
    "        # Optional CCOEFF / SSD\n",
    "\n",
    "        result = cv2.matchTemplate(screen_img, self.template_image, cv2.TM_CCOEFF_NORMED)\n",
    "        # result = cv2.matchTemplate(screen_img, self.template_image, cv2.TM_SQDIFF_NORMED)\n",
    "        min_value, max_value, min_loc, max_loc = cv2.minMaxLoc(result)\n",
    "\n",
    "        top_left = max_loc\n",
    "        # top_left = min_loc\n",
    "\n",
    "        bottom_right = (max_loc[0]+self.width, max_loc[1]+self.height)\n",
    "        # bottom_right = (min_loc[0]+self.width, min_loc[1]+self.height)\n",
    "\n",
    "        # Reason for using Norm...\n",
    "        if max_value > 0.6: # Player location precision\n",
    "        # if min_value < 0.4:\n",
    "            self.location = (top_left, bottom_right)\n",
    "            return True\n",
    "        else:\n",
    "            self.location = None\n",
    "            return False"
   ]
  },
  {
   "cell_type": "code",
   "execution_count": 4,
   "metadata": {},
   "outputs": [],
   "source": [
    "# Player object\n",
    "\n",
    "#---------------------------------------------------------\n",
    "Player = Google_cricket(\"stump.png\") # Fill player.png\n",
    "\n",
    "#---------------------------------------------------------\n",
    "Ball = [Google_cricket(\"ball1.png\"), Google_cricket(\"ball2.png\"), Google_cricket(\"ball3.png\")] # Fill ball.png"
   ]
  },
  {
   "cell_type": "markdown",
   "metadata": {},
   "source": [
    "RUN THIS AND START THE GAME IN BROWSER\n",
    "\n",
    "# Let the Game begin"
   ]
  },
  {
   "cell_type": "code",
   "execution_count": 21,
   "metadata": {},
   "outputs": [],
   "source": [
    "# Parameters\n",
    "\n",
    "distanceThreshold = 80\n",
    "\n",
    "\n",
    "while True:\n",
    "    screen  = take_screenshot()\n",
    "\n",
    "    # Finding player\n",
    "\n",
    "    \n",
    "    if Player.find_in(screen):\n",
    "        if Player.location != None : # Logic not understood\n",
    "            # Find location of main_panal\n",
    "            topleft_x = int(Player.location[0][0] - 0.17 * Player.width) # 10/58 * 58\n",
    "            topleft_y = int(Player.location[0][1] - 2.11 * Player.height)\n",
    "            bottomRight_x = int (Player.location[1][0] + 1.26 * Player.width)\n",
    "            bottomRight_y = int(Player.location[1][1])\n",
    "            TopLeft = (topleft_x, topleft_y)\n",
    "            BottomRight = (bottomRight_x, bottomRight_y)\n",
    "            break\n",
    "\n",
    "# Press space to start\n",
    "pag.press(\"space\")\n",
    "\n",
    "while True :\n",
    "\n",
    "    # Cropping small section for observation\n",
    "    main_panal = take_screenshot(bbox = (TopLeft[0], TopLeft[1], BottomRight[0], BottomRight[1]))\n",
    "\n",
    "    # No Effect of Speed\n",
    "    \n",
    "\n",
    "    if Player.find_in(main_panal):\n",
    "        if Player.location:\n",
    "            # Yellow rectange [Aroung stump]\n",
    "            cv2.rectangle(main_panal, Player.location[0], Player.location[1], (0, 255, 0), 7)\n",
    "    \n",
    "    # Detect ball\n",
    "    for ball_i in Ball:\n",
    "        if ball_i.find_in(main_panal):\n",
    "            # Blue rectangle [Around ball]\n",
    "            cv2.rectangle(main_panal, ball_i.location[0], ball_i.location[1], (255, 0, 0), 7)\n",
    "\n",
    "            if Player.location:\n",
    "                verticalDistance = Player.location[0][1] - ball_i.location[1][1]\n",
    "                # Diff between Top left y coordinate\n",
    "\n",
    "                if verticalDistance <= distanceThreshold:\n",
    "                    pag.press(\"space\")\n",
    "                    break\n",
    "\n",
    "\n",
    "    # show selected area\n",
    "    cv2.imshow(\"Screen\", main_panal)\n",
    "\n",
    "    # Only Q as exit key\n",
    "    if( cv2.waitKey(1) == ord('q')) :\n",
    "        cv2.destroyAllWindows()\n",
    "        break\n"
   ]
  },
  {
   "cell_type": "code",
   "execution_count": null,
   "metadata": {},
   "outputs": [],
   "source": []
  }
 ],
 "metadata": {
  "kernelspec": {
   "display_name": "Python 3.10.3 64-bit",
   "language": "python",
   "name": "python3"
  },
  "language_info": {
   "codemirror_mode": {
    "name": "ipython",
    "version": 3
   },
   "file_extension": ".py",
   "mimetype": "text/x-python",
   "name": "python",
   "nbconvert_exporter": "python",
   "pygments_lexer": "ipython3",
   "version": "3.10.3"
  },
  "orig_nbformat": 4,
  "vscode": {
   "interpreter": {
    "hash": "369f2c481f4da34e4445cda3fffd2e751bd1c4d706f27375911949ba6bb62e1c"
   }
  }
 },
 "nbformat": 4,
 "nbformat_minor": 2
}
